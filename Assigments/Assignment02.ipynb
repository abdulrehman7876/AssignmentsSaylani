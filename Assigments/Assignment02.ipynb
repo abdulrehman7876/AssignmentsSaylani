{
 "cells": [
  {
   "cell_type": "code",
   "execution_count": 1,
   "id": "314bb37d",
   "metadata": {},
   "outputs": [
    {
     "name": "stdout",
     "output_type": "stream",
     "text": [
      "Your bonus is 21000.0\n"
     ]
    }
   ],
   "source": [
    "salary = int(input(\"Enter your salary: \"))\n",
    "years = int(input(\"Enter year of service: \"))\n",
    "bonus = salary + (salary/100)*5\n",
    "print(f\"Your bonus is {bonus}\") if years > 5 else print(\"You are not eligible\")"
   ]
  },
  {
   "cell_type": "code",
   "execution_count": 2,
   "id": "ca37439e",
   "metadata": {},
   "outputs": [
    {
     "name": "stdout",
     "output_type": "stream",
     "text": [
      "not eligible\n"
     ]
    }
   ],
   "source": [
    "age = int(input(\"Enter your age: \"))\n",
    "\n",
    "print(\"eligible\") if age > 17 else print(\"not eligible\") "
   ]
  },
  {
   "cell_type": "code",
   "execution_count": 3,
   "id": "78a7818d",
   "metadata": {},
   "outputs": [
    {
     "name": "stdout",
     "output_type": "stream",
     "text": [
      "2 is Even\n"
     ]
    }
   ],
   "source": [
    "num = int(input(\"Enter a number\"))\n",
    "\n",
    "print(f\"{num} is Even\") if num % 2 == 0 else print(f\"{num} is odd\")"
   ]
  },
  {
   "cell_type": "code",
   "execution_count": 5,
   "id": "fc9bdab9",
   "metadata": {},
   "outputs": [
    {
     "name": "stdout",
     "output_type": "stream",
     "text": [
      "49 is divisible by 7 Mod 0\n"
     ]
    }
   ],
   "source": [
    "num = int(input(\"Enter a number\"))\n",
    "\n",
    "print(f\"{num} is divisible by 7 Mod {num % 7}\") if num % 7 == 0 else print(f\"{num} is not divisible by 7 Mod {num % 7}\")"
   ]
  },
  {
   "cell_type": "code",
   "execution_count": 6,
   "id": "ed8d456d",
   "metadata": {},
   "outputs": [
    {
     "name": "stdout",
     "output_type": "stream",
     "text": [
      "hello\n"
     ]
    }
   ],
   "source": [
    "num = int(input(\"Enter a num: \"))\n",
    "print(\"hello\") if num % 5 == 0 else print(\"bye\")"
   ]
  },
  {
   "cell_type": "code",
   "execution_count": 7,
   "id": "fde4a0f8",
   "metadata": {},
   "outputs": [
    {
     "name": "stdout",
     "output_type": "stream",
     "text": [
      "8\n"
     ]
    }
   ],
   "source": [
    "number = input(\"Enter a number: \")\n",
    "print(int(number[-1]))"
   ]
  },
  {
   "cell_type": "code",
   "execution_count": 8,
   "id": "5949aee4",
   "metadata": {},
   "outputs": [
    {
     "name": "stdout",
     "output_type": "stream",
     "text": [
      "Reactangle\n"
     ]
    }
   ],
   "source": [
    "length = int(input(\"Enter length of the rectangle\"))\n",
    "breadth = int(input(\"Enter breadth of the rectangle\"))\n",
    "\n",
    "print(\"Square\") if length == breadth else print(\"Reactangle\")"
   ]
  },
  {
   "cell_type": "code",
   "execution_count": 9,
   "id": "47f62e8a",
   "metadata": {},
   "outputs": [
    {
     "name": "stdout",
     "output_type": "stream",
     "text": [
      "20\n"
     ]
    }
   ],
   "source": [
    "num_1 = int(input(\"Enter 1st number\"))\n",
    "num_2 = int(input(\"Enter 2nd number\"))\n",
    "print(num_1) if num_1 > num_2 else print(num_2)"
   ]
  },
  {
   "cell_type": "code",
   "execution_count": 11,
   "id": "4019058c",
   "metadata": {},
   "outputs": [
    {
     "name": "stdout",
     "output_type": "stream",
     "text": [
      "Your total is 500\n"
     ]
    }
   ],
   "source": [
    "quantity = int(input(\"How many Items you purchased: \"))\n",
    "total_quantity = quantity * 100\n",
    "discount =  total_quantity - ((total_quantity / 100) * 10) \n",
    "print(f\"You get a 10% discount {discount}\") if total_quantity > 1000 else print(f\"Your total is {total_quantity}\")"
   ]
  },
  {
   "cell_type": "code",
   "execution_count": 12,
   "id": "49c616b6",
   "metadata": {},
   "outputs": [
    {
     "name": "stdout",
     "output_type": "stream",
     "text": [
      "Your grade is D\n"
     ]
    }
   ],
   "source": [
    "marks = int(input(\"Enter marks\"))\n",
    "\n",
    "if marks > 80 and marks <= 100:\n",
    "    print(\"Your grade is A\")\n",
    "elif marks > 60 and marks <= 80:\n",
    "    print(\"Your grade is B\")\n",
    "elif marks > 50 and marks <= 60:\n",
    "    print(\"Your grade is C\")\n",
    "elif marks > 45 and marks <= 50:\n",
    "    print(\"Your grade is D\")\n",
    "elif marks > 25 and marks <= 45:\n",
    "    print(\"Your grade is E\")\n",
    "elif marks >= 0 and marks <= 25:\n",
    "    print(\"Your grade is F\")"
   ]
  },
  {
   "cell_type": "code",
   "execution_count": 15,
   "id": "8fcb5cac",
   "metadata": {},
   "outputs": [
    {
     "name": "stdout",
     "output_type": "stream",
     "text": [
      "70.0% not allowed in Exam\n"
     ]
    }
   ],
   "source": [
    "classesHeld = int(input(\"Enter number of classes held\"))\n",
    "classesAttend = int(input(\"Enter number of classes you attend\"))\n",
    "percentage = (classesAttend / classesHeld) * 100\n",
    "print(f\"{percentage}% allowed in Exam\") if percentage >= 75 else print(f\"{percentage}% not allowed in Exam\")"
   ]
  },
  {
   "cell_type": "code",
   "execution_count": 16,
   "id": "c6f7fc86",
   "metadata": {},
   "outputs": [
    {
     "name": "stdout",
     "output_type": "stream",
     "text": [
      "70.0% allowed in Exam\n"
     ]
    }
   ],
   "source": [
    "classesHeld = int(input(\"Enter number of classes held\"))\n",
    "classesAttend = int(input(\"Enter number of classes you attend\"))\n",
    "cause = input(\"You have any medical issue? Y or N\").lower()\n",
    "percentage = (classesAttend / classesHeld) * 100\n",
    "print(f\"{percentage}% allowed in Exam\") if percentage >= 75 or cause == \"y\" else print(f\"{percentage} not allowed in Exam\")"
   ]
  },
  {
   "cell_type": "code",
   "execution_count": 17,
   "id": "e29fb8c8",
   "metadata": {},
   "outputs": [
    {
     "name": "stdout",
     "output_type": "stream",
     "text": [
      "not a leap year\n"
     ]
    }
   ],
   "source": [
    "year = int(input(\"Enter year?\"))\n",
    "\n",
    "print(\"leap year\") if year % 4 == 0 and year % 400 == 0 else print(\"not a leap year\")"
   ]
  },
  {
   "cell_type": "code",
   "execution_count": 19,
   "id": "02274e74",
   "metadata": {},
   "outputs": [
    {
     "name": "stdout",
     "output_type": "stream",
     "text": [
      "You will work in urban areas only\n"
     ]
    }
   ],
   "source": [
    "age = int(input(\"Enter your age: \"))\n",
    "gender = input(\"Enter your gender M OR F: \").lower()\n",
    "maritalStatus = input(\"Are you married: \")\n",
    "\n",
    "if gender == 'f' and age <= 60 and age >= 20 :\n",
    "  print(\"You will work in urban areas only\")\n",
    "elif gender == 'm' and age < 40 and age >= 20: \n",
    "  print(\"You can work any where\")\n",
    "elif gender == 'm' and age <= 60 and age >= 40: \n",
    "  print(\"You will work in urban areas only\")\n",
    "else:\n",
    "  print(\"Error age should be between 60 to 20\")"
   ]
  },
  {
   "cell_type": "code",
   "execution_count": 20,
   "id": "5c46b93d",
   "metadata": {},
   "outputs": [
    {
     "name": "stdout",
     "output_type": "stream",
     "text": [
      "Total bill amount is Rs. 0\n"
     ]
    }
   ],
   "source": [
    "units = int(input(\"Enter Units: \"))\n",
    "if units <= 100 and units >= 0:\n",
    "  print(f\"Total bill amount is Rs. 0\")\n",
    "elif units > 100 and units <= 200:\n",
    "  print(f\"Total bill amount is Rs. {units*5}\")\n",
    "elif units > 200:\n",
    "  print(f\"Total bill amount is Rs. {units*10}\")"
   ]
  },
  {
   "cell_type": "code",
   "execution_count": 24,
   "id": "2ac664b2",
   "metadata": {},
   "outputs": [
    {
     "name": "stdout",
     "output_type": "stream",
     "text": [
      "20\n"
     ]
    }
   ],
   "source": [
    "age_1 = int(input(\"Enter age 1: \"))\n",
    "age_2 = int(input(\"Enter age 2: \"))\n",
    "age_3 = int(input(\"Enter age 3: \"))\n",
    "\n",
    "if age_1 >= age_2 and age_1 >= age_3:\n",
    "  print(age_1)\n",
    "elif age_2 >= age_1 and age_2 >= age_3:\n",
    "  print(age_2)\n",
    "elif age_3 >= age_1 and age_3 >= age_2:\n",
    "  print(age_3)\n",
    "  "
   ]
  },
  {
   "cell_type": "code",
   "execution_count": null,
   "id": "ec66eb75",
   "metadata": {},
   "outputs": [],
   "source": []
  }
 ],
 "metadata": {
  "kernelspec": {
   "display_name": "Python 3",
   "language": "python",
   "name": "python3"
  },
  "language_info": {
   "codemirror_mode": {
    "name": "ipython",
    "version": 3
   },
   "file_extension": ".py",
   "mimetype": "text/x-python",
   "name": "python",
   "nbconvert_exporter": "python",
   "pygments_lexer": "ipython3",
   "version": "3.11.9"
  }
 },
 "nbformat": 4,
 "nbformat_minor": 5
}
