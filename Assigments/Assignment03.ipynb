{
 "cells": [
  {
   "cell_type": "code",
   "execution_count": 7,
   "id": "542b15b6",
   "metadata": {},
   "outputs": [
    {
     "name": "stdout",
     "output_type": "stream",
     "text": [
      "Characters: au\n",
      "Number of vowels 2\n"
     ]
    }
   ],
   "source": [
    "str = input(\"Enter a string\")\n",
    "vowels = [\"a\", \"e\", \"i\", \"o\", \"u\"]\n",
    "count = 0\n",
    "print(\"Characters: \", end=\"\")\n",
    "for char in str:\n",
    "    for vowel in vowels:\n",
    "        if char == vowel:\n",
    "            count += 1\n",
    "            print(char, end=\"\") \n",
    "print(\"\\nNumber of vowels\",count)"
   ]
  },
  {
   "cell_type": "code",
   "execution_count": 10,
   "id": "4a18a7be",
   "metadata": {},
   "outputs": [
    {
     "name": "stdout",
     "output_type": "stream",
     "text": [
      "2 2 1 2\n"
     ]
    }
   ],
   "source": [
    "sentence = input(\"Enter a sentence: \")\n",
    "capital_count = 0\n",
    "lower_count = 0\n",
    "white_count = 0\n",
    "digit_count = 0\n",
    "for char in sentence:\n",
    "    if char.isupper():\n",
    "        capital_count += 1\n",
    "    if char.islower():\n",
    "        lower_count += 1\n",
    "    if char == \" \":\n",
    "        white_count += 1\n",
    "    if char.isdigit():\n",
    "        digit_count +=1\n",
    "\n",
    "print(capital_count, lower_count, white_count, digit_count)\n",
    "\n",
    "\n",
    "    "
   ]
  },
  {
   "cell_type": "code",
   "execution_count": 17,
   "id": "95ed4d0b",
   "metadata": {},
   "outputs": [
    {
     "name": "stdout",
     "output_type": "stream",
     "text": [
      "oellh\n"
     ]
    }
   ],
   "source": [
    "str = input(\"Enter a string\")\n",
    "first = str[0]\n",
    "last = str[-1]\n",
    "mid = str[1:-1]\n",
    "new_str = f\"{last}{mid}{first}\"\n",
    "print(new_str)"
   ]
  },
  {
   "cell_type": "code",
   "execution_count": 21,
   "id": "96fb8631",
   "metadata": {},
   "outputs": [
    {
     "name": "stdout",
     "output_type": "stream",
     "text": [
      "\n"
     ]
    }
   ],
   "source": [
    "str = input(\"Enter a string\")\n",
    "new_str = str[::-1]\n",
    "print(new_str)"
   ]
  },
  {
   "cell_type": "code",
   "execution_count": 35,
   "id": "6567283f",
   "metadata": {},
   "outputs": [
    {
     "name": "stdout",
     "output_type": "stream",
     "text": [
      "xamination 2021e\n"
     ]
    }
   ],
   "source": [
    "str = input(\"enter a string: \")\n",
    "first = str[0]\n",
    "last = str[1:]\n",
    "new_str = f\"{last}{first}\"\n",
    "print(new_str)"
   ]
  },
  {
   "cell_type": "code",
   "execution_count": null,
   "id": "fbb07c43",
   "metadata": {},
   "outputs": [
    {
     "name": "stdout",
     "output_type": "stream",
     "text": [
      "Abdul Ahad Haider Qureshi\n",
      "A. A. H.\n"
     ]
    }
   ],
   "source": [
    "str = input(\"Enter a string: \")\n",
    "mid = str.index(\" \") + 1\n",
    "str2 = str[mid:]\n",
    "last = str2.index(\" \") + 1\n",
    "print(str)\n",
    "print(f\"{str[0]}. {str[mid]}. {str2[last]}.\")"
   ]
  },
  {
   "cell_type": "code",
   "execution_count": 8,
   "id": "fad1043d",
   "metadata": {},
   "outputs": [
    {
     "name": "stdout",
     "output_type": "stream",
     "text": [
      "radar is a palindrome\n"
     ]
    }
   ],
   "source": [
    "str = input(\"Enter a word: \")\n",
    "if str == str[::-1]:\n",
    "  print(f\"{str} is a palindrome\")\n",
    "else:\n",
    "  print(f\"{str} is not a palindrome\")"
   ]
  },
  {
   "cell_type": "code",
   "execution_count": 14,
   "id": "1425ac62",
   "metadata": {},
   "outputs": [
    {
     "name": "stdout",
     "output_type": "stream",
     "text": [
      "SHIFT\n",
      "HIFTS\n",
      "IFTSH\n",
      "FTSHI\n",
      "TSHIF\n",
      "SHIFT\n"
     ]
    }
   ],
   "source": [
    "str = \"SHIFT\"\n",
    "print(str)\n",
    "for char in str:\n",
    "  str = f\"{str[1:]}{str[0]}\"\n",
    "  print(str)"
   ]
  },
  {
   "cell_type": "code",
   "execution_count": 25,
   "id": "04860ebf",
   "metadata": {},
   "outputs": [
    {
     "name": "stdout",
     "output_type": "stream",
     "text": [
      "helooMy123\n"
     ]
    }
   ],
   "source": [
    "password = input(\"Enter a password: \\nPassword must be at least Eight digits\\nPassword must contain one uppercase one lowercase and one digit\")\n",
    "capital_count = 0\n",
    "lower_count = 0\n",
    "digit_count = 0\n",
    "for char in password:\n",
    "    if char.isupper():\n",
    "        capital_count += 1\n",
    "    if char.islower():\n",
    "        lower_count += 1\n",
    "    if char.isdigit():\n",
    "        digit_count +=1\n",
    "if capital_count >= 1 and lower_count >= 1 and digit_count >= 1 and len(password) >= 8:\n",
    "    print(password)\n",
    "else:\n",
    "    print(\"Please Enter a valid password. \\nPassword must be at least Eight digits\\nPassword must contain one uppercase one lowercase and one digit\")"
   ]
  },
  {
   "cell_type": "code",
   "execution_count": 30,
   "id": "4f896b8c",
   "metadata": {},
   "outputs": [
    {
     "name": "stdout",
     "output_type": "stream",
     "text": [
      "['1', '3', '5']\n"
     ]
    }
   ],
   "source": [
    "list_size = int(input(\"Enter how many elements you want in list\"))\n",
    "user_list = []\n",
    "for i in range(list_size):\n",
    "  user_list.append(input(f\"Enter element {i+1}\"))\n",
    "print(user_list[::2])\n"
   ]
  },
  {
   "cell_type": "code",
   "execution_count": 34,
   "id": "d4c26e55",
   "metadata": {},
   "outputs": [
    {
     "name": "stdout",
     "output_type": "stream",
     "text": [
      "['5', '4', '3', '2', '1']\n"
     ]
    }
   ],
   "source": [
    "list_size = int(input(\"Enter how many elements you want in list\"))\n",
    "user_list = []\n",
    "for i in range(list_size):\n",
    "  user_list.append(input(f\"Enter element {i+1}\"))\n",
    "print(user_list[::-1])"
   ]
  },
  {
   "cell_type": "code",
   "execution_count": 40,
   "id": "d1af68f5",
   "metadata": {},
   "outputs": [
    {
     "name": "stdout",
     "output_type": "stream",
     "text": [
      "100\n"
     ]
    }
   ],
   "source": [
    "list_size = int(input(\"Enter how many elements you want in list\"))\n",
    "user_list = []\n",
    "max = 0\n",
    "for i in range(list_size):\n",
    "  user_list.append(int(input(f\"Enter element {i+1}\")))\n",
    "for i in range(len(user_list)):\n",
    "  for elm in user_list:\n",
    "    max = max if max > elm else elm\n",
    "print(max)"
   ]
  },
  {
   "cell_type": "code",
   "execution_count": 46,
   "id": "0412498b",
   "metadata": {},
   "outputs": [
    {
     "name": "stdout",
     "output_type": "stream",
     "text": [
      "[1, 2, 3, 4, 5]\n",
      "[2, 3, 4, 5, 1]\n"
     ]
    }
   ],
   "source": [
    "list = [1,2,3,4,5]\n",
    "rotated_list = []\n",
    "for i in range(len(list)):\n",
    "  if i == len(list) - 1:\n",
    "    rotated_list.append(list[0])\n",
    "    break\n",
    "  rotated_list.append(list[i+1])\n",
    "print(list)\n",
    "print(rotated_list)"
   ]
  },
  {
   "cell_type": "code",
   "execution_count": 47,
   "id": "5c22f1a6",
   "metadata": {},
   "outputs": [
    {
     "name": "stdout",
     "output_type": "stream",
     "text": [
      "['apple', 'mango', 'banana']\n",
      "['mango', 'banana']\n"
     ]
    }
   ],
   "source": [
    "list = ['apple', 'mango', 'banana']\n",
    "print(list)\n",
    "user_val = input(\"Enter a word that you want to delete: \")\n",
    "list.remove(user_val)\n",
    "print(list)\n"
   ]
  },
  {
   "cell_type": "code",
   "execution_count": 50,
   "id": "3e48b512",
   "metadata": {},
   "outputs": [
    {
     "name": "stdout",
     "output_type": "stream",
     "text": [
      "August 08, 2025\n"
     ]
    }
   ],
   "source": [
    "date = input(\"Enter a date in this format MM/DD/YYYY: \")\n",
    "list = date.split(\"/\")\n",
    "print(f\"{list[0]} {list[1]}, {list[2]}\")\n"
   ]
  },
  {
   "cell_type": "code",
   "execution_count": 52,
   "id": "b5f2101a",
   "metadata": {},
   "outputs": [
    {
     "name": "stdout",
     "output_type": "stream",
     "text": [
      "Hello My Name Is Abd\n"
     ]
    }
   ],
   "source": [
    "sentence = input(\"Enter a sentence: \").title()\n",
    "print(sentence)"
   ]
  },
  {
   "cell_type": "code",
   "execution_count": 63,
   "id": "0ed06f66",
   "metadata": {},
   "outputs": [
    {
     "name": "stdout",
     "output_type": "stream",
     "text": [
      "sum of row 1: = 6 \n",
      "sum of row 2: = 21 \n",
      "sum of row 3: = 45 \n"
     ]
    }
   ],
   "source": [
    "matrix = [[1,2,3],\n",
    "          [4,5,6],\n",
    "          [7,8,9]]\n",
    "sum = 0\n",
    "for row in range(len(matrix)):\n",
    "  for column in range(len(matrix)):\n",
    "    sum += matrix[row][column]\n",
    "  print(f\"sum of row {row + 1}: = {sum}\", end=\" \") \n",
    "  print()"
   ]
  },
  {
   "cell_type": "code",
   "execution_count": 64,
   "id": "13defc58",
   "metadata": {},
   "outputs": [
    {
     "name": "stdout",
     "output_type": "stream",
     "text": [
      "Enter elements of Matrix A:\n",
      "Enter elements of Matrix B:\n",
      "\n",
      "Resultant Matrix (A + B):\n",
      "[2, 4, 6]\n",
      "[8, 10, 12]\n",
      "[14, 16, 18]\n"
     ]
    }
   ],
   "source": [
    "n = int(input(\"Enter number of rows: \"))\n",
    "m = int(input(\"Enter number of columns: \"))\n",
    "\n",
    "print(\"Enter elements of Matrix A:\")\n",
    "A = [[int(input(f\"A[{i}][{j}]: \")) for j in range(m)] for i in range(n)]\n",
    "\n",
    "print(\"Enter elements of Matrix B:\")\n",
    "B = [[int(input(f\"B[{i}][{j}]: \")) for j in range(m)] for i in range(n)]\n",
    "\n",
    "Sum = [[A[i][j] + B[i][j] for j in range(m)] for i in range(n)]\n",
    "\n",
    "print(\"\\nResultant Matrix (A + B):\")\n",
    "for row in Sum:\n",
    "    print(row)\n"
   ]
  },
  {
   "cell_type": "code",
   "execution_count": 65,
   "id": "377891c8",
   "metadata": {},
   "outputs": [
    {
     "name": "stdout",
     "output_type": "stream",
     "text": [
      "Enter elements of Matrix A:\n",
      "Enter elements of Matrix B:\n",
      "\n",
      "Resultant Matrix (A × B):\n",
      "[30, 36, 42]\n",
      "[66, 81, 96]\n",
      "[102, 126, 150]\n"
     ]
    }
   ],
   "source": [
    "n1 = int(input(\"Enter rows of Matrix A: \"))\n",
    "m1 = int(input(\"Enter columns of Matrix A: \"))\n",
    "n2 = int(input(\"Enter rows of Matrix B: \"))\n",
    "m2 = int(input(\"Enter columns of Matrix B: \"))\n",
    "\n",
    "if m1 != n2:\n",
    "    print(\"Matrix multiplication not possible!\")\n",
    "else:\n",
    "    print(\"Enter elements of Matrix A:\")\n",
    "    A = [[int(input(f\"A[{i}][{j}]: \")) for j in range(m1)] for i in range(n1)]\n",
    "\n",
    "    print(\"Enter elements of Matrix B:\")\n",
    "    B = [[int(input(f\"B[{i}][{j}]: \")) for j in range(m2)] for i in range(n2)]\n",
    "\n",
    "    Result = [[0 for _ in range(m2)] for _ in range(n1)]\n",
    "\n",
    "    for i in range(n1):\n",
    "        for j in range(m2):\n",
    "            for k in range(m1):  # or range(n2)\n",
    "                Result[i][j] += A[i][k] * B[k][j]\n",
    "\n",
    "    print(\"\\nResultant Matrix (A × B):\")\n",
    "    for row in Result:\n",
    "        print(row)\n"
   ]
  },
  {
   "cell_type": "code",
   "execution_count": null,
   "id": "7fc9b23d",
   "metadata": {},
   "outputs": [],
   "source": []
  }
 ],
 "metadata": {
  "kernelspec": {
   "display_name": "Python 3",
   "language": "python",
   "name": "python3"
  },
  "language_info": {
   "codemirror_mode": {
    "name": "ipython",
    "version": 3
   },
   "file_extension": ".py",
   "mimetype": "text/x-python",
   "name": "python",
   "nbconvert_exporter": "python",
   "pygments_lexer": "ipython3",
   "version": "3.11.9"
  }
 },
 "nbformat": 4,
 "nbformat_minor": 5
}
