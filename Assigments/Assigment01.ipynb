{
 "cells": [
  {
   "cell_type": "code",
   "execution_count": 1,
   "id": "8ebaf049",
   "metadata": {},
   "outputs": [
    {
     "name": "stdout",
     "output_type": "stream",
     "text": [
      "My name is Abdul Rehman Date Of Birth: 10-04-2005 \n",
      "My Father name is Aijaz\n"
     ]
    }
   ],
   "source": [
    "name = \"Abdul Rehman\"\n",
    "My_DoB = \"10-04-2005\"\n",
    "F_name = \"Aijaz\"\n",
    "print(f\"My name is {name} Date Of Birth: {My_DoB} \\nMy Father name is {F_name}\")"
   ]
  },
  {
   "cell_type": "code",
   "execution_count": 1,
   "id": "01963610",
   "metadata": {},
   "outputs": [
    {
     "name": "stdout",
     "output_type": "stream",
     "text": [
      "-----Bio Data-----\n",
      "Name: Abdul Rehman\n",
      "Age: 19\n",
      "City: karachi\n",
      "Institute: SMIT\n"
     ]
    }
   ],
   "source": [
    "name = \"Abdul Rehman\"\n",
    "age = 19\n",
    "city = \"karachi\"\n",
    "institute = \"SMIT\"\n",
    "print(\"-----Bio Data-----\")\n",
    "print(f\"Name: {name}\\nAge: {age}\\nCity: {city}\\nInstitute: {institute}\")"
   ]
  },
  {
   "cell_type": "code",
   "execution_count": 15,
   "id": "d42bce2a",
   "metadata": {},
   "outputs": [
    {
     "name": "stdout",
     "output_type": "stream",
     "text": [
      "False or True:  True\n"
     ]
    }
   ],
   "source": [
    "f_num = input(\"Enter first number: \")\n",
    "sec_num = input(\"Enter second number: \")\n",
    "operator = input(\"Enter operator [+ - * / % or and]: \")\n",
    "\n",
    "if operator == '+':\n",
    "    print(f\"{f_num} + {sec_num}: \", int(f_num) + int(sec_num))\n",
    "elif operator == '-':\n",
    "    print(f\"{f_num} - {sec_num}: \", int(f_num) - int(sec_num))\n",
    "elif operator == '*':\n",
    "    print(f\"{f_num} * {sec_num}: \" ,int(f_num) * int(sec_num))\n",
    "elif operator == '/':\n",
    "    print(f\"{f_num} / {sec_num}: \" ,int(f_num) / int(sec_num))\n",
    "elif operator == '%':\n",
    "    print(f\"{f_num} % {sec_num}: \" ,int(f_num) % int(sec_num))\n",
    "elif operator == 'or':\n",
    "    print(f\"{f_num} or {sec_num}: \" ,bool(f_num) or bool(sec_num))\n",
    "elif operator == 'and':\n",
    "    print(f\"{f_num} and {sec_num}: \" ,bool(f_num) and bool(sec_num))\n",
    "else:\n",
    "    print(\"Please select the correct operator\")"
   ]
  },
  {
   "cell_type": "code",
   "execution_count": 21,
   "id": "647d6cfe",
   "metadata": {},
   "outputs": [
    {
     "name": "stdout",
     "output_type": "stream",
     "text": [
      "Your percentage is 76.66666666666667%\n"
     ]
    }
   ],
   "source": [
    "Eng = int(input(\"Enter English Marks out of 100:\"))\n",
    "Isl = int(input(\"Enter Islamiat Marks out of 100:\"))\n",
    "Maths = int(input(\"Enter Maths Marks out of 100:\"))\n",
    "total_marks = 300\n",
    "obt_marks = Eng + Isl + Maths\n",
    "percentage = (obt_marks / total_marks) * 100\n",
    "print(f\"Your percentage is {percentage}%\",)\n"
   ]
  },
  {
   "cell_type": "code",
   "execution_count": 22,
   "id": "16b6e890",
   "metadata": {},
   "outputs": [
    {
     "name": "stdout",
     "output_type": "stream",
     "text": [
      "Your bonus is 21000.0\n"
     ]
    }
   ],
   "source": [
    "salary = int(input(\"Enter your salary: \"))\n",
    "years = int(input(\"Enter year of service: \"))\n",
    "bonus = salary + (salary/100)*5\n",
    "print(f\"Your bonus is {bonus}\") if years > 5 else print(\"You are not eligible\")"
   ]
  },
  {
   "cell_type": "code",
   "execution_count": 24,
   "id": "1f6b0d38",
   "metadata": {},
   "outputs": [
    {
     "name": "stdout",
     "output_type": "stream",
     "text": [
      "eligible\n"
     ]
    }
   ],
   "source": [
    "age = int(input(\"Enter your age: \"))\n",
    "\n",
    "print(\"eligible\") if age > 17 else print(\"not eligible\") "
   ]
  },
  {
   "cell_type": "code",
   "execution_count": 25,
   "id": "46411711",
   "metadata": {},
   "outputs": [
    {
     "name": "stdout",
     "output_type": "stream",
     "text": [
      "3 is odd\n"
     ]
    }
   ],
   "source": [
    "num = int(input(\"Enter a number\"))\n",
    "\n",
    "print(f\"{num} is Even\") if num % 2 == 0 else print(f\"{num} is odd\")"
   ]
  },
  {
   "cell_type": "code",
   "execution_count": null,
   "id": "b67b8e28",
   "metadata": {},
   "outputs": [
    {
     "name": "stdout",
     "output_type": "stream",
     "text": [
      "4 is not divisible by 7 Answer 4\n"
     ]
    }
   ],
   "source": [
    "num = int(input(\"Enter a number\"))\n",
    "\n",
    "print(f\"{num} is divisible by 7 Mod {num % 7}\") if num % 7 == 0 else print(f\"{num} is not divisible by 7 Mod {num % 7}\")"
   ]
  },
  {
   "cell_type": "code",
   "execution_count": 29,
   "id": "5da6cbbb",
   "metadata": {},
   "outputs": [
    {
     "name": "stdout",
     "output_type": "stream",
     "text": [
      "hello\n"
     ]
    }
   ],
   "source": [
    "num = int(input(\"Enter a num: \"))\n",
    "print(\"hello\") if num % 5 == 0 else print(\"bye\")"
   ]
  },
  {
   "cell_type": "code",
   "execution_count": 30,
   "id": "dc67798c",
   "metadata": {},
   "outputs": [
    {
     "name": "stdout",
     "output_type": "stream",
     "text": [
      "9\n"
     ]
    }
   ],
   "source": [
    "number = input(\"Enter a number: \")\n",
    "print(int(number[-1]))"
   ]
  },
  {
   "cell_type": "code",
   "execution_count": 31,
   "id": "1f4d8df4",
   "metadata": {},
   "outputs": [
    {
     "name": "stdout",
     "output_type": "stream",
     "text": [
      "Square\n"
     ]
    }
   ],
   "source": [
    "length = int(input(\"Enter length of the rectangle\"))\n",
    "breadth = int(input(\"Enter breadth of the rectangle\"))\n",
    "\n",
    "print(\"Square\") if length == breadth else print(\"Reactangle\")"
   ]
  },
  {
   "cell_type": "code",
   "execution_count": 32,
   "id": "67cf04f1",
   "metadata": {},
   "outputs": [
    {
     "name": "stdout",
     "output_type": "stream",
     "text": [
      "4\n"
     ]
    }
   ],
   "source": [
    "num_1 = int(input(\"Enter 1st number\"))\n",
    "num_2 = int(input(\"Enter 2nd number\"))\n",
    "print(num_1) if num_1 > num_2 else print(num_2)"
   ]
  },
  {
   "cell_type": "code",
   "execution_count": 34,
   "id": "8595cba6",
   "metadata": {},
   "outputs": [
    {
     "name": "stdout",
     "output_type": "stream",
     "text": [
      "You get a 10% discount 990.0\n"
     ]
    }
   ],
   "source": [
    "quantity = int(input(\"How many Items you purchased: \"))\n",
    "total_quantity = quantity * 100\n",
    "discount =  total_quantity - ((total_quantity / 100) * 10) \n",
    "print(f\"You get a 10% discount {discount}\") if total_quantity > 1000 else print(f\"Your total is {total_quantity}\")"
   ]
  },
  {
   "cell_type": "code",
   "execution_count": 5,
   "id": "21259845",
   "metadata": {},
   "outputs": [
    {
     "name": "stdout",
     "output_type": "stream",
     "text": [
      "Your grade is B\n"
     ]
    }
   ],
   "source": [
    "marks = int(input(\"Enter marks\"))\n",
    "\n",
    "if marks > 80 and marks <= 100:\n",
    "    print(\"Your grade is A\")\n",
    "elif marks > 60 and marks <= 80:\n",
    "    print(\"Your grade is B\")\n",
    "elif marks > 50 and marks <= 60:\n",
    "    print(\"Your grade is C\")\n",
    "elif marks > 45 and marks <= 50:\n",
    "    print(\"Your grade is D\")\n",
    "elif marks > 25 and marks <= 45:\n",
    "    print(\"Your grade is E\")\n",
    "elif marks >= 0 and marks <= 25:\n",
    "    print(\"Your grade is F\")"
   ]
  },
  {
   "cell_type": "code",
   "execution_count": 36,
   "id": "a22d5ed9",
   "metadata": {},
   "outputs": [
    {
     "name": "stdout",
     "output_type": "stream",
     "text": [
      "50.0 not allowed in Exam\n"
     ]
    }
   ],
   "source": [
    "classesHeld = int(input(\"Enter number of classes held\"))\n",
    "classesAttend = int(input(\"Enter number of classes you attend\"))\n",
    "percentage = (classesAttend / classesHeld) * 100\n",
    "print(f\"{percentage} allowed in Exam\") if percentage >= 75 else print(f\"{percentage} not allowed in Exam\")"
   ]
  },
  {
   "cell_type": "code",
   "execution_count": 1,
   "id": "23b604a3",
   "metadata": {},
   "outputs": [
    {
     "name": "stdout",
     "output_type": "stream",
     "text": [
      "75.0% allowed in Exam\n"
     ]
    }
   ],
   "source": [
    "classesHeld = int(input(\"Enter number of classes held\"))\n",
    "classesAttend = int(input(\"Enter number of classes you attend\"))\n",
    "cause = input(\"You have any medical issue? Y or N\").lower()\n",
    "percentage = (classesAttend / classesHeld) * 100\n",
    "print(f\"{percentage}% allowed in Exam\") if percentage >= 75 or cause == \"y\" else print(f\"{percentage} not allowed in Exam\")"
   ]
  },
  {
   "cell_type": "code",
   "execution_count": 1,
   "id": "d4b6a21f",
   "metadata": {},
   "outputs": [
    {
     "name": "stdout",
     "output_type": "stream",
     "text": [
      "not a leap year\n"
     ]
    }
   ],
   "source": [
    "year = int(input(\"Enter year?\"))\n",
    "\n",
    "print(\"leap year\") if year % 4 == 0 and year % 400 == 0 else print(\"not a leap year\")"
   ]
  },
  {
   "cell_type": "code",
   "execution_count": 1,
   "id": "fe6614dc",
   "metadata": {},
   "outputs": [
    {
     "name": "stdout",
     "output_type": "stream",
     "text": [
      "Error age should be between 60 to 20\n"
     ]
    }
   ],
   "source": [
    "age = int(input(\"Enter your age: \"))\n",
    "gender = input(\"Enter your gender M OR F: \").lower()\n",
    "maritalStatus = input(\"Are you married: \")\n",
    "\n",
    "if gender == 'f' and age <= 60 and age >= 20 :\n",
    "  print(\"You will work in urban areas only\")\n",
    "elif gender == 'm' and age < 40 and age >= 20: \n",
    "  print(\"You can work any where\")\n",
    "elif gender == 'm' and age <= 60 and age >= 40: \n",
    "  print(\"You will work in urban areas only\")\n",
    "else:\n",
    "  print(\"Error age should be between 60 to 20\")"
   ]
  },
  {
   "cell_type": "code",
   "execution_count": 2,
   "id": "a52de985",
   "metadata": {},
   "outputs": [
    {
     "name": "stdout",
     "output_type": "stream",
     "text": [
      "Total bill amount is Rs. 3500\n"
     ]
    }
   ],
   "source": [
    "units = int(input(\"Enter Units: \"))\n",
    "if units <= 100 and units >= 0:\n",
    "  print(f\"Total bill amount is Rs. 0\")\n",
    "elif units > 100 and units <= 200:\n",
    "  print(f\"Total bill amount is Rs. {units*5}\")\n",
    "elif units > 200:\n",
    "  print(f\"Total bill amount is Rs. {units*10}\")"
   ]
  },
  {
   "cell_type": "code",
   "execution_count": null,
   "id": "ac68e913",
   "metadata": {},
   "outputs": [
    {
     "name": "stdout",
     "output_type": "stream",
     "text": [
      "51\n"
     ]
    }
   ],
   "source": [
    "age_1 = int(input(\"Enter age 1: \"))\n",
    "age_2 = int(input(\"Enter age 2: \"))\n",
    "age_3 = int(input(\"Enter age 3: \"))\n",
    "\n",
    "if age_1 >= age_2 and age_1 >= age_3:\n",
    "  print(age_1)\n",
    "elif age_2 >= age_1 and age_2 >= age_3:\n",
    "  print(age_2)\n",
    "elif age_3 >= age_1 and age_3 >= age_2:\n",
    "  print(age_3)\n",
    "  "
   ]
  },
  {
   "cell_type": "code",
   "execution_count": null,
   "id": "2f84e9ab",
   "metadata": {},
   "outputs": [],
   "source": []
  }
 ],
 "metadata": {
  "kernelspec": {
   "display_name": "Python 3",
   "language": "python",
   "name": "python3"
  },
  "language_info": {
   "codemirror_mode": {
    "name": "ipython",
    "version": 3
   },
   "file_extension": ".py",
   "mimetype": "text/x-python",
   "name": "python",
   "nbconvert_exporter": "python",
   "pygments_lexer": "ipython3",
   "version": "3.11.9"
  }
 },
 "nbformat": 4,
 "nbformat_minor": 5
}
