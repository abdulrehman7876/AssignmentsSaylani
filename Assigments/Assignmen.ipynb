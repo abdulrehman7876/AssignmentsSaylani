{
 "cells": [
  {
   "cell_type": "code",
   "execution_count": 15,
   "id": "e800531c",
   "metadata": {},
   "outputs": [
    {
     "name": "stdout",
     "output_type": "stream",
     "text": [
      "Abdul Rehman Aijaz\n",
      "A. R. A.\n"
     ]
    }
   ],
   "source": [
    "str = input(\"Enter a string: \")\n",
    "mid = str.index(\" \") + 1\n",
    "str2 = str[mid:]\n",
    "last = str2.index(\" \") + 1\n",
    "print(str)\n",
    "print(f\"{str[0]}. {str[mid]}. {str2[last]}.\")"
   ]
  },
  {
   "cell_type": "code",
   "execution_count": 5,
   "id": "b40d5864",
   "metadata": {},
   "outputs": [
    {
     "data": {
      "text/plain": [
       "5"
      ]
     },
     "execution_count": 5,
     "metadata": {},
     "output_type": "execute_result"
    }
   ],
   "source": [
    "mid"
   ]
  },
  {
   "cell_type": "code",
   "execution_count": 9,
   "id": "c7f51b7e",
   "metadata": {},
   "outputs": [
    {
     "data": {
      "text/plain": [
       "6"
      ]
     },
     "execution_count": 9,
     "metadata": {},
     "output_type": "execute_result"
    }
   ],
   "source": [
    "last"
   ]
  },
  {
   "cell_type": "code",
   "execution_count": null,
   "id": "3a0700a6",
   "metadata": {},
   "outputs": [],
   "source": [
    "userList = []\n",
    "login_str = input(\"Do you want to login OR Register\").lower().strip()\n",
    "def register():\n",
    "    name = input(\"Enter your name\")\n",
    "    email = input(\"Enter your email\")\n",
    "    password = input(\"Enter your password\")\n",
    "    userList.extend([name, email, password])\n",
    "    login()\n",
    "\n",
    "\n",
    "def login():\n",
    "    email = input(\"Enter your email\")\n",
    "    password = input(\"Enter your password\")\n",
    "    if userList[1] == email and userList[2] == password:\n",
    "        print(\"your are registerd\")\n",
    "    else:\n",
    "        print(\"you are not registered please register\")\n",
    "        register()\n",
    "\n",
    "register() if login_str == 'register' else login()"
   ]
  }
 ],
 "metadata": {
  "kernelspec": {
   "display_name": "Python 3",
   "language": "python",
   "name": "python3"
  },
  "language_info": {
   "codemirror_mode": {
    "name": "ipython",
    "version": 3
   },
   "file_extension": ".py",
   "mimetype": "text/x-python",
   "name": "python",
   "nbconvert_exporter": "python",
   "pygments_lexer": "ipython3",
   "version": "3.11.9"
  }
 },
 "nbformat": 4,
 "nbformat_minor": 5
}
